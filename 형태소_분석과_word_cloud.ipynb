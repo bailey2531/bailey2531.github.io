{
  "nbformat": 4,
  "nbformat_minor": 0,
  "metadata": {
    "colab": {
      "name": "형태소 분석과 word cloud",
      "provenance": [],
      "include_colab_link": true
    },
    "kernelspec": {
      "name": "python3",
      "display_name": "Python 3"
    },
    "accelerator": "GPU"
  },
  "cells": [
    {
      "cell_type": "markdown",
      "metadata": {
        "id": "view-in-github",
        "colab_type": "text"
      },
      "source": [
        "<a href=\"https://colab.research.google.com/github/bailey2531/bailey2531.github.io/blob/master/%ED%98%95%ED%83%9C%EC%86%8C_%EB%B6%84%EC%84%9D%EA%B3%BC_word_cloud.ipynb\" target=\"_parent\"><img src=\"https://colab.research.google.com/assets/colab-badge.svg\" alt=\"Open In Colab\"/></a>"
      ]
    },
    {
      "cell_type": "code",
      "metadata": {
        "id": "MGeUUw29d3x5",
        "colab_type": "code",
        "colab": {
          "base_uri": "https://localhost:8080/",
          "height": 34
        },
        "outputId": "908d836d-7f02-48dc-a706-87a3ee0425d4"
      },
      "source": [
        "print(\"Hello World\")"
      ],
      "execution_count": 3,
      "outputs": [
        {
          "output_type": "stream",
          "text": [
            "Hello World\n"
          ],
          "name": "stdout"
        }
      ]
    },
    {
      "cell_type": "code",
      "metadata": {
        "id": "o6cTNosEeG6q",
        "colab_type": "code",
        "colab": {
          "base_uri": "https://localhost:8080/",
          "height": 52
        },
        "outputId": "a9918c4e-8fff-4638-f382-286ed057e440"
      },
      "source": [
        "cat/etc/issue"
      ],
      "execution_count": 1,
      "outputs": [
        {
          "output_type": "stream",
          "text": [
            "Ubuntu 18.04.3 LTS \\n \\l\n",
            "\n"
          ],
          "name": "stdout"
        }
      ]
    },
    {
      "cell_type": "code",
      "metadata": {
        "id": "m1vdGeYOex6a",
        "colab_type": "code",
        "colab": {
          "base_uri": "https://localhost:8080/",
          "height": 34
        },
        "outputId": "4ce9148e-74d9-47dd-af0d-4928ff6ca8fb"
      },
      "source": [
        "!cat/etc/issue"
      ],
      "execution_count": 2,
      "outputs": [
        {
          "output_type": "stream",
          "text": [
            "/bin/bash: cat/etc/issue: No such file or directory\n"
          ],
          "name": "stdout"
        }
      ]
    },
    {
      "cell_type": "code",
      "metadata": {
        "id": "0gomDZEse1Zj",
        "colab_type": "code",
        "colab": {
          "base_uri": "https://localhost:8080/",
          "height": 52
        },
        "outputId": "dd1ed078-182a-42fa-93d3-8c5f5e5ad8d8"
      },
      "source": [
        "!cat /etc/issue"
      ],
      "execution_count": 3,
      "outputs": [
        {
          "output_type": "stream",
          "text": [
            "Ubuntu 18.04.3 LTS \\n \\l\n",
            "\n"
          ],
          "name": "stdout"
        }
      ]
    },
    {
      "cell_type": "code",
      "metadata": {
        "id": "J2d7BV-ce51N",
        "colab_type": "code",
        "colab": {
          "base_uri": "https://localhost:8080/",
          "height": 34
        },
        "outputId": "0768ea67-17c9-4eed-f94e-22eaaac3aad7"
      },
      "source": [
        "!pwd"
      ],
      "execution_count": 4,
      "outputs": [
        {
          "output_type": "stream",
          "text": [
            "/content\n"
          ],
          "name": "stdout"
        }
      ]
    },
    {
      "cell_type": "code",
      "metadata": {
        "id": "ZUy3THa3e8Ik",
        "colab_type": "code",
        "colab": {
          "base_uri": "https://localhost:8080/",
          "height": 580
        },
        "outputId": "d1f97e09-434c-4bed-bdb7-cf1f52f00ced"
      },
      "source": [
        "!pip install konlpy"
      ],
      "execution_count": 5,
      "outputs": [
        {
          "output_type": "stream",
          "text": [
            "Collecting konlpy\n",
            "\u001b[?25l  Downloading https://files.pythonhosted.org/packages/85/0e/f385566fec837c0b83f216b2da65db9997b35dd675e107752005b7d392b1/konlpy-0.5.2-py2.py3-none-any.whl (19.4MB)\n",
            "\u001b[K     |████████████████████████████████| 19.4MB 421kB/s \n",
            "\u001b[?25hRequirement already satisfied: numpy>=1.6 in /usr/local/lib/python3.6/dist-packages (from konlpy) (1.17.4)\n",
            "Collecting beautifulsoup4==4.6.0\n",
            "\u001b[?25l  Downloading https://files.pythonhosted.org/packages/9e/d4/10f46e5cfac773e22707237bfcd51bbffeaf0a576b0a847ec7ab15bd7ace/beautifulsoup4-4.6.0-py3-none-any.whl (86kB)\n",
            "\u001b[K     |████████████████████████████████| 92kB 11.6MB/s \n",
            "\u001b[?25hCollecting colorama\n",
            "  Downloading https://files.pythonhosted.org/packages/c9/dc/45cdef1b4d119eb96316b3117e6d5708a08029992b2fee2c143c7a0a5cc5/colorama-0.4.3-py2.py3-none-any.whl\n",
            "Requirement already satisfied: lxml>=4.1.0 in /usr/local/lib/python3.6/dist-packages (from konlpy) (4.2.6)\n",
            "Collecting tweepy>=3.7.0\n",
            "  Downloading https://files.pythonhosted.org/packages/36/1b/2bd38043d22ade352fc3d3902cf30ce0e2f4bf285be3b304a2782a767aec/tweepy-3.8.0-py2.py3-none-any.whl\n",
            "Collecting JPype1>=0.7.0\n",
            "\u001b[?25l  Downloading https://files.pythonhosted.org/packages/07/09/e19ce27d41d4f66d73ac5b6c6a188c51b506f56c7bfbe6c1491db2d15995/JPype1-0.7.0-cp36-cp36m-manylinux2010_x86_64.whl (2.7MB)\n",
            "\u001b[K     |████████████████████████████████| 2.7MB 23.5MB/s \n",
            "\u001b[?25hRequirement already satisfied: PySocks>=1.5.7 in /usr/local/lib/python3.6/dist-packages (from tweepy>=3.7.0->konlpy) (1.7.1)\n",
            "Requirement already satisfied: requests-oauthlib>=0.7.0 in /usr/local/lib/python3.6/dist-packages (from tweepy>=3.7.0->konlpy) (1.3.0)\n",
            "Requirement already satisfied: requests>=2.11.1 in /usr/local/lib/python3.6/dist-packages (from tweepy>=3.7.0->konlpy) (2.21.0)\n",
            "Requirement already satisfied: six>=1.10.0 in /usr/local/lib/python3.6/dist-packages (from tweepy>=3.7.0->konlpy) (1.12.0)\n",
            "Requirement already satisfied: oauthlib>=3.0.0 in /usr/local/lib/python3.6/dist-packages (from requests-oauthlib>=0.7.0->tweepy>=3.7.0->konlpy) (3.1.0)\n",
            "Requirement already satisfied: chardet<3.1.0,>=3.0.2 in /usr/local/lib/python3.6/dist-packages (from requests>=2.11.1->tweepy>=3.7.0->konlpy) (3.0.4)\n",
            "Requirement already satisfied: certifi>=2017.4.17 in /usr/local/lib/python3.6/dist-packages (from requests>=2.11.1->tweepy>=3.7.0->konlpy) (2019.11.28)\n",
            "Requirement already satisfied: urllib3<1.25,>=1.21.1 in /usr/local/lib/python3.6/dist-packages (from requests>=2.11.1->tweepy>=3.7.0->konlpy) (1.24.3)\n",
            "Requirement already satisfied: idna<2.9,>=2.5 in /usr/local/lib/python3.6/dist-packages (from requests>=2.11.1->tweepy>=3.7.0->konlpy) (2.8)\n",
            "Installing collected packages: beautifulsoup4, colorama, tweepy, JPype1, konlpy\n",
            "  Found existing installation: beautifulsoup4 4.6.3\n",
            "    Uninstalling beautifulsoup4-4.6.3:\n",
            "      Successfully uninstalled beautifulsoup4-4.6.3\n",
            "  Found existing installation: tweepy 3.6.0\n",
            "    Uninstalling tweepy-3.6.0:\n",
            "      Successfully uninstalled tweepy-3.6.0\n",
            "Successfully installed JPype1-0.7.0 beautifulsoup4-4.6.0 colorama-0.4.3 konlpy-0.5.2 tweepy-3.8.0\n"
          ],
          "name": "stdout"
        }
      ]
    },
    {
      "cell_type": "code",
      "metadata": {
        "id": "EqFnr2uqfEwn",
        "colab_type": "code",
        "colab": {
          "base_uri": "https://localhost:8080/",
          "height": 298
        },
        "outputId": "261a8725-31f7-48ab-c85a-74d41e8937c1"
      },
      "source": [
        "pip install konlpy"
      ],
      "execution_count": 6,
      "outputs": [
        {
          "output_type": "stream",
          "text": [
            "Requirement already satisfied: konlpy in /usr/local/lib/python3.6/dist-packages (0.5.2)\n",
            "Requirement already satisfied: tweepy>=3.7.0 in /usr/local/lib/python3.6/dist-packages (from konlpy) (3.8.0)\n",
            "Requirement already satisfied: numpy>=1.6 in /usr/local/lib/python3.6/dist-packages (from konlpy) (1.17.4)\n",
            "Requirement already satisfied: colorama in /usr/local/lib/python3.6/dist-packages (from konlpy) (0.4.3)\n",
            "Requirement already satisfied: JPype1>=0.7.0 in /usr/local/lib/python3.6/dist-packages (from konlpy) (0.7.0)\n",
            "Requirement already satisfied: lxml>=4.1.0 in /usr/local/lib/python3.6/dist-packages (from konlpy) (4.2.6)\n",
            "Requirement already satisfied: beautifulsoup4==4.6.0 in /usr/local/lib/python3.6/dist-packages (from konlpy) (4.6.0)\n",
            "Requirement already satisfied: PySocks>=1.5.7 in /usr/local/lib/python3.6/dist-packages (from tweepy>=3.7.0->konlpy) (1.7.1)\n",
            "Requirement already satisfied: requests-oauthlib>=0.7.0 in /usr/local/lib/python3.6/dist-packages (from tweepy>=3.7.0->konlpy) (1.3.0)\n",
            "Requirement already satisfied: six>=1.10.0 in /usr/local/lib/python3.6/dist-packages (from tweepy>=3.7.0->konlpy) (1.12.0)\n",
            "Requirement already satisfied: requests>=2.11.1 in /usr/local/lib/python3.6/dist-packages (from tweepy>=3.7.0->konlpy) (2.21.0)\n",
            "Requirement already satisfied: oauthlib>=3.0.0 in /usr/local/lib/python3.6/dist-packages (from requests-oauthlib>=0.7.0->tweepy>=3.7.0->konlpy) (3.1.0)\n",
            "Requirement already satisfied: idna<2.9,>=2.5 in /usr/local/lib/python3.6/dist-packages (from requests>=2.11.1->tweepy>=3.7.0->konlpy) (2.8)\n",
            "Requirement already satisfied: chardet<3.1.0,>=3.0.2 in /usr/local/lib/python3.6/dist-packages (from requests>=2.11.1->tweepy>=3.7.0->konlpy) (3.0.4)\n",
            "Requirement already satisfied: certifi>=2017.4.17 in /usr/local/lib/python3.6/dist-packages (from requests>=2.11.1->tweepy>=3.7.0->konlpy) (2019.11.28)\n",
            "Requirement already satisfied: urllib3<1.25,>=1.21.1 in /usr/local/lib/python3.6/dist-packages (from requests>=2.11.1->tweepy>=3.7.0->konlpy) (1.24.3)\n"
          ],
          "name": "stdout"
        }
      ]
    },
    {
      "cell_type": "code",
      "metadata": {
        "id": "aBEJbZTwfMqJ",
        "colab_type": "code",
        "colab": {}
      },
      "source": [
        "from konlpy.tag import Okt\n",
        "okt=Okt()\n"
      ],
      "execution_count": 0,
      "outputs": []
    },
    {
      "cell_type": "code",
      "metadata": {
        "id": "07dsZVdMfsQA",
        "colab_type": "code",
        "colab": {}
      },
      "source": [
        "## Okt를 이용한 토큰화\n",
        "\n",
        "def tokenize_by_morphs(text): #형태소 단위 토큰화\n",
        "  return okt.morphs(text)\n",
        "\n",
        "def toknize_by_nouns(text):  # 명사 단위로 토큰화\n",
        "  return okt.nouns(text)\n",
        "\n",
        "def tokenize_by_phrases(text):  #구 단위로 토큰화\n",
        "  return okt.phrases(text)\n",
        "\n",
        "def tokenize_by_pos(text):  #태킹하여 토큰화\n",
        "  return okt.pos(text)"
      ],
      "execution_count": 0,
      "outputs": []
    },
    {
      "cell_type": "code",
      "metadata": {
        "id": "CP1fpcm6gxik",
        "colab_type": "code",
        "colab": {}
      },
      "source": [
        "text=\"안녕하세요. 반갑습니다. 오늘은 자연어 전처리에 대해서 배워볼 것입니다.\""
      ],
      "execution_count": 0,
      "outputs": []
    },
    {
      "cell_type": "code",
      "metadata": {
        "id": "d-qA-dSIhgtR",
        "colab_type": "code",
        "colab": {
          "base_uri": "https://localhost:8080/",
          "height": 34
        },
        "outputId": "c2860f79-6520-4a2e-9801-8839625e1a9d"
      },
      "source": [
        "print(tokenize_by_morphs(text))"
      ],
      "execution_count": 19,
      "outputs": [
        {
          "output_type": "stream",
          "text": [
            "['안녕하세요', '.', '반갑습니다', '.', '오늘', '은', '자연어', '전', '처리', '에', '대해', '서', '배워', '볼', '것', '입니다', '.']\n"
          ],
          "name": "stdout"
        }
      ]
    },
    {
      "cell_type": "code",
      "metadata": {
        "id": "7OTrCA8thkUb",
        "colab_type": "code",
        "colab": {
          "base_uri": "https://localhost:8080/",
          "height": 54
        },
        "outputId": "0d892c33-9775-4054-dea3-36113d3870b1"
      },
      "source": [
        "print(tokenize_by_pos(text))"
      ],
      "execution_count": 20,
      "outputs": [
        {
          "output_type": "stream",
          "text": [
            "[('안녕하세요', 'Adjective'), ('.', 'Punctuation'), ('반갑습니다', 'Adjective'), ('.', 'Punctuation'), ('오늘', 'Noun'), ('은', 'Josa'), ('자연어', 'Noun'), ('전', 'Modifier'), ('처리', 'Noun'), ('에', 'Josa'), ('대해', 'Noun'), ('서', 'Josa'), ('배워', 'Verb'), ('볼', 'Noun'), ('것', 'Noun'), ('입니다', 'Adjective'), ('.', 'Punctuation')]\n"
          ],
          "name": "stdout"
        }
      ]
    },
    {
      "cell_type": "code",
      "metadata": {
        "id": "bo67bMObiV5A",
        "colab_type": "code",
        "colab": {
          "base_uri": "https://localhost:8080/",
          "height": 54
        },
        "outputId": "ec36c6d6-e015-4d3a-d84a-59bfb230c06c"
      },
      "source": [
        "news_data=\"\"\"\n",
        "\n",
        "// flash 오류를 우회하기 위한 함수 추가\n",
        "function _flash_removeCallback() {}\n",
        "\n",
        "ㆍ트럼프, ‘중대 도발’ 경고 메시지“ㆍ김정은, 미 대선 개입 지켜볼 것”ㆍ북측 “비핵, 협상 테이블서 내려”북한이 지난 7일 평안북도 철산군 동창리에 있는 서해위성발사장에서 “대단히 중대한 시험”을 했다고 8일 밝혔다. 연말 시한을 앞두고 대미 압박 수위를 높이기 위해 미국 본토 타격 능력이 있는 대륙간탄도미사일(ICBM)용 엔진 개발 시험을 했을 가능성이 거론된다. 도널드 트럼프 미 대통령은 북한의 미 대선 개입은 안된다는 경고성 발언을 내놓는 등 북한이 제시한 연말 시한을 앞두고 북·미 간 긴장 수위가 높아지고 있다. 북한 국방과학원 대변인은 이날 담화에서 “7일 오후 서해위성발사장에서는 대단히 중대한 시험이 진행되었다”며 “국방과학원은 중대한 의의를 가지는 이번 시험의 성공적 결과를 조선노동당 중앙위원회에 보고했다”고 발표했다. 대변인은 “이번에 진행한 중대한 시험의 결과는 머지않아 조선민주주의인민공화국의 전략적 지위를 또 한 번 변화시키는 데서 중요한 작용을 하게 될 것”이라고 덧붙였다.다만 북한은 구체적인 시험 내용은 밝히지 않았다. 전문가들은 동창리에 서해위성발사장과 엔진시험장이 있고, 국방과학원이 미사일 엔진 등 신형 무기 개발을 담당한다는 점, 북한이 ‘전략적 지위’에 영향을 주는 시험이라고 발표한 점을 볼 때 이날 북한의 담화 내용은 ICBM용 고체연료 엔진 시험일 가능성이 높은 것으로 보고 있다.북·미 간 갈등도 노골화하고 있다. 트럼프 대통령은 7일(현지시간) 백악관에서 “북한이 적대적으로 행동한다면 나는 놀랄 것”이라며 “그(김정은 북한 국무위원장)는 내가 선거를 앞두고 있음을 알고 있다. 나는 그가 그것에 개입하고 싶어한다고 생각지 않지만, 지켜봐야 할 것”이라고 말했다. 그는 “나는 김정은과 매우 좋은 관계를 갖고 있다. 우리 두 사람 모두 그것을 유지하길 바란다고 생각한다”고도 했다. 북한이 재선 도전에 나선 자신을 압박하기 위해 ICBM이나 핵 실험과 같은 중대 도발을 해선 안된다는 경고성 발언이다. 같은 날 김성 유엔주재 북한대사는 성명에서 “미국이 추구하는 지속적이고 상당한 대화는, 국내 정치적 어젠다로써 북·미 대화를 편의주의적으로 사용하기 위한 시간벌기 속임수”라며 “비핵화는 협상 테이블에서 이미 내려졌다”고 말했다. 트럼프 대통령이 선거를 의식해 북핵 문제에서 실질적 진전 없이 ‘현상 유지’만 하려는 것은 허용하지 않겠다는 언급으로 해석된다. 문재인 대통령과 트럼프 대통령은 7일 통화를 갖고 최근 한반도 상황이 엄중하다는 인식을 공유하고, 북·미 간 비핵화 협상의 조기성과를 달성하기 위해 대화 모멘텀이 계속 유지돼야 한다는 데 공감했다고 청와대는 밝혔다.이주영 기자 young78@kyunghyang.com▶ 장도리 | 그림마당 보기▶ 경향신문 최신기사▶ 기사 제보하기©경향신문(www.khan.co.kr), 무단전재 및 재배포 금지\n",
        "\n",
        "\"\"\"\n",
        "pattern_string = '\\n'                   # 줄 넘김을 의미하는 패턴\n",
        "pattern = re.compile(pattern_string)\n",
        "news_data = re.sub(pattern, '', news_data)\n",
        "\n",
        "print(news_data)"
      ],
      "execution_count": 60,
      "outputs": [
        {
          "output_type": "stream",
          "text": [
            "// flash 오류를 우회하기 위한 함수 추가function _flash_removeCallback() {}ㆍ트럼프, ‘중대 도발’ 경고 메시지“ㆍ김정은, 미 대선 개입 지켜볼 것”ㆍ북측 “비핵, 협상 테이블서 내려”북한이 지난 7일 평안북도 철산군 동창리에 있는 서해위성발사장에서 “대단히 중대한 시험”을 했다고 8일 밝혔다. 연말 시한을 앞두고 대미 압박 수위를 높이기 위해 미국 본토 타격 능력이 있는 대륙간탄도미사일(ICBM)용 엔진 개발 시험을 했을 가능성이 거론된다. 도널드 트럼프 미 대통령은 북한의 미 대선 개입은 안된다는 경고성 발언을 내놓는 등 북한이 제시한 연말 시한을 앞두고 북·미 간 긴장 수위가 높아지고 있다. 북한 국방과학원 대변인은 이날 담화에서 “7일 오후 서해위성발사장에서는 대단히 중대한 시험이 진행되었다”며 “국방과학원은 중대한 의의를 가지는 이번 시험의 성공적 결과를 조선노동당 중앙위원회에 보고했다”고 발표했다. 대변인은 “이번에 진행한 중대한 시험의 결과는 머지않아 조선민주주의인민공화국의 전략적 지위를 또 한 번 변화시키는 데서 중요한 작용을 하게 될 것”이라고 덧붙였다.다만 북한은 구체적인 시험 내용은 밝히지 않았다. 전문가들은 동창리에 서해위성발사장과 엔진시험장이 있고, 국방과학원이 미사일 엔진 등 신형 무기 개발을 담당한다는 점, 북한이 ‘전략적 지위’에 영향을 주는 시험이라고 발표한 점을 볼 때 이날 북한의 담화 내용은 ICBM용 고체연료 엔진 시험일 가능성이 높은 것으로 보고 있다.북·미 간 갈등도 노골화하고 있다. 트럼프 대통령은 7일(현지시간) 백악관에서 “북한이 적대적으로 행동한다면 나는 놀랄 것”이라며 “그(김정은 북한 국무위원장)는 내가 선거를 앞두고 있음을 알고 있다. 나는 그가 그것에 개입하고 싶어한다고 생각지 않지만, 지켜봐야 할 것”이라고 말했다. 그는 “나는 김정은과 매우 좋은 관계를 갖고 있다. 우리 두 사람 모두 그것을 유지하길 바란다고 생각한다”고도 했다. 북한이 재선 도전에 나선 자신을 압박하기 위해 ICBM이나 핵 실험과 같은 중대 도발을 해선 안된다는 경고성 발언이다. 같은 날 김성 유엔주재 북한대사는 성명에서 “미국이 추구하는 지속적이고 상당한 대화는, 국내 정치적 어젠다로써 북·미 대화를 편의주의적으로 사용하기 위한 시간벌기 속임수”라며 “비핵화는 협상 테이블에서 이미 내려졌다”고 말했다. 트럼프 대통령이 선거를 의식해 북핵 문제에서 실질적 진전 없이 ‘현상 유지’만 하려는 것은 허용하지 않겠다는 언급으로 해석된다. 문재인 대통령과 트럼프 대통령은 7일 통화를 갖고 최근 한반도 상황이 엄중하다는 인식을 공유하고, 북·미 간 비핵화 협상의 조기성과를 달성하기 위해 대화 모멘텀이 계속 유지돼야 한다는 데 공감했다고 청와대는 밝혔다.이주영 기자 young78@kyunghyang.com▶ 장도리 | 그림마당 보기▶ 경향신문 최신기사▶ 기사 제보하기©경향신문(www.khan.co.kr), 무단전재 및 재배포 금지\n"
          ],
          "name": "stdout"
        }
      ]
    },
    {
      "cell_type": "code",
      "metadata": {
        "id": "DJMLy4-vmY75",
        "colab_type": "code",
        "colab": {
          "base_uri": "https://localhost:8080/",
          "height": 34
        },
        "outputId": "27948868-f154-49fc-9ffe-8cc2b8c82f7b"
      },
      "source": [
        "import re  ## 정규표현식 라이브러리를 불러옴\n",
        "\n",
        "str=\"가나다가나다가나다가나다가나다\"\n",
        "pattern_string='[가다]'\n",
        "pattern=re.compile(pattern_string)  # re 라이브러리에 있는 많은 함수 패턴을 사용하겠다. 그중 compile...\n",
        "#정규표현식 패턴을 사용하기 위해서는 컴파일이라는 함수를 이용해 패턴을 만들어 주어야 함.//컴퓨터야 '[]'에 들어 있는 애들은 정규표현식이야 라고 알려주는 것\n",
        "\n",
        "print(re.sub(pattern,'', str))    #re.sub이라는 것은 패턴에 매칭되는 것을 '(공백)'으로 대체하겠다."
      ],
      "execution_count": 25,
      "outputs": [
        {
          "output_type": "stream",
          "text": [
            "나나나나나\n"
          ],
          "name": "stdout"
        }
      ]
    },
    {
      "cell_type": "code",
      "metadata": {
        "id": "T8aLNx2RpKHj",
        "colab_type": "code",
        "colab": {
          "base_uri": "https://localhost:8080/",
          "height": 34
        },
        "outputId": "f65a3131-688f-4d29-fb98-4655fd93d58b"
      },
      "source": [
        "str= \"가나23ㅑ9ㅍ2-093ㅣㅏㅍ,ㄴㅇ;ㅏㅔㅐㅈsldjfosijgij0-3$%%&*^%\"\n",
        "pattern_string='[가-힣]'   ## 한글을 패턴으로 하겟다\n",
        "pattern =re.compile(pattern_string)\n",
        "\n",
        "print(re.findall(pattern,str))  ### 패턴을 다찾아내라."
      ],
      "execution_count": 26,
      "outputs": [
        {
          "output_type": "stream",
          "text": [
            "['가', '나']\n"
          ],
          "name": "stdout"
        }
      ]
    },
    {
      "cell_type": "code",
      "metadata": {
        "id": "dooVm5rhsCLc",
        "colab_type": "code",
        "colab": {
          "base_uri": "https://localhost:8080/",
          "height": 54
        },
        "outputId": "8338a713-4921-4283-9838-026292c6de21"
      },
      "source": [
        "str= \"가나23ㅑ9ㅍ2-093ㅣㅏㅍ,ㄴㅇ;ㅏㅔㅐㅈsldjfosijgij0-3$%%&*^%\"\n",
        "pattern_string='[^가-힣]'     ## 꺽쇠를 넣으면 한글이 싹다 제거된다.\n",
        "pattern =re.compile(pattern_string)\n",
        "\n",
        "print(re.findall(pattern,str))  ### 패턴을 다찾아내라."
      ],
      "execution_count": 27,
      "outputs": [
        {
          "output_type": "stream",
          "text": [
            "['2', '3', 'ㅑ', '9', 'ㅍ', '2', '-', '0', '9', '3', 'ㅣ', 'ㅏ', 'ㅍ', ',', 'ㄴ', 'ㅇ', ';', 'ㅏ', 'ㅔ', 'ㅐ', 'ㅈ', 's', 'l', 'd', 'j', 'f', 'o', 's', 'i', 'j', 'g', 'i', 'j', '0', '-', '3', '$', '%', '%', '&', '*', '^', '%']\n"
          ],
          "name": "stdout"
        }
      ]
    },
    {
      "cell_type": "code",
      "metadata": {
        "id": "X0LMRfq3sZq3",
        "colab_type": "code",
        "colab": {
          "base_uri": "https://localhost:8080/",
          "height": 34
        },
        "outputId": "ab52f7e1-d274-4583-cb46-ddd56ad9d35d"
      },
      "source": [
        "str= \"가나23ㅑ9ㅍ2-093ㅣㅏㅍ,ㄴㅇ;ㅏㅔㅐㅈsldjfosijgij0-3$%%&*^%\"\n",
        "pattern_string='[가-힣,ㄱ-ㅎ,ㅏ-ㅣ]'     ## 가~힣, ㄱ-ㅎ ㅏ-ㅣ사이 모든 글자 자모음 다 찾아내라\n",
        "pattern =re.compile(pattern_string)\n",
        "\n",
        "print(re.findall(pattern,str))  ### 패턴을 다찾아내라."
      ],
      "execution_count": 31,
      "outputs": [
        {
          "output_type": "stream",
          "text": [
            "['가', '나', 'ㅑ', 'ㅍ', 'ㅣ', 'ㅏ', 'ㅍ', ',', 'ㄴ', 'ㅇ', 'ㅏ', 'ㅔ', 'ㅐ', 'ㅈ']\n"
          ],
          "name": "stdout"
        }
      ]
    },
    {
      "cell_type": "code",
      "metadata": {
        "id": "q2aX6XfbstMQ",
        "colab_type": "code",
        "colab": {
          "base_uri": "https://localhost:8080/",
          "height": 34
        },
        "outputId": "66facea9-fa4d-4758-938f-c161847a5151"
      },
      "source": [
        "str= \"가나23ㅑ9ㅍ2-093ㅣㅏㅍ,ㄴㅇ;ㅏㅔㅐㅈsldjfosijgij0-3$%%&*^%\"\n",
        "pattern_string='[a-zA-Z]'     ## \n",
        "pattern =re.compile(pattern_string)\n",
        "\n",
        "print(re.findall(pattern,str))  ### 패턴을 다찾아내라."
      ],
      "execution_count": 38,
      "outputs": [
        {
          "output_type": "stream",
          "text": [
            "['s', 'l', 'd', 'j', 'f', 'o', 's', 'i', 'j', 'g', 'i', 'j']\n"
          ],
          "name": "stdout"
        }
      ]
    },
    {
      "cell_type": "code",
      "metadata": {
        "id": "fv3MNmSns79X",
        "colab_type": "code",
        "colab": {}
      },
      "source": [
        "###정규표현식에서 []하면, 대괄호 안에 들어있는 글자를 한글자씩 잡아내주고\n",
        "### []없이 그냥 쓰면 통채로 찾아준다.\n",
        "### |(돈표시) 는 or의 기능이다.\n"
      ],
      "execution_count": 0,
      "outputs": []
    },
    {
      "cell_type": "code",
      "metadata": {
        "id": "LUxk45ZUwE3R",
        "colab_type": "code",
        "colab": {
          "base_uri": "https://localhost:8080/",
          "height": 52
        },
        "outputId": "7ae886d8-426c-4ebb-e207-a6d51d7a43ed"
      },
      "source": [
        "str = \"abc가나다 English 가나다 English I don't know 힝힝\"\n",
        "\n",
        "pattern_string='[가-힣ㄱ-하-ㅣ]+'\n",
        "pattern=re.compile(pattern_string)\n",
        "\n",
        "print(pattern.findall(str))  #[가-힣, ㄱ-ㅎ, ㅏ-l에 해당하는 패턴을 다 찾아서 리스트로 반환합니다.\n",
        "print(pattern.search(str))   #match라는 객체로 반환합니다."
      ],
      "execution_count": 46,
      "outputs": [
        {
          "output_type": "stream",
          "text": [
            "['가나다', '가나다', '힝힝']\n",
            "<_sre.SRE_Match object; span=(3, 6), match='가나다'>\n"
          ],
          "name": "stdout"
        }
      ]
    },
    {
      "cell_type": "code",
      "metadata": {
        "id": "gnHD93gtwXf_",
        "colab_type": "code",
        "colab": {
          "base_uri": "https://localhost:8080/",
          "height": 87
        },
        "outputId": "4265e1ac-98d1-4d76-d2c2-6b7eaace4e23"
      },
      "source": [
        "matchObject = pattern.search(str)    ### pattern.search(str)의 결과 match 객페를 matchObject에 삽입\n",
        " \n",
        "print(\"group 함수의 결과 :{}\".format(matchObject.group()))    ## match 객체의 group이라는 매소드 수행\n",
        "print(\"start 함수의 결과 :{}\".format(matchObject.start()))   ## match 객체의 start라는 메소드 수행 ('가나다'가 몇번째 시작하나. 젤 첫글짜는 0번)\n",
        "print(\"end 함수의 결과 :{}\".format(matchObject.end()))       ## match 객체의 end라는 메소드 수행 ('가나다'가 몇번째 끝나나? 원래는 5번째 끝나지만 +1 해서 숫자를 보여준다)\n",
        "print(\"span 함수의 결과 :{}\".format(matchObject.span()))     ## 시작과 끝을 튜플로 보여준다."
      ],
      "execution_count": 47,
      "outputs": [
        {
          "output_type": "stream",
          "text": [
            "group 함수의 결과 :가나다\n",
            "start 함수의 결과 :3\n",
            "end 함수의 결과 :6\n",
            "span 함수의 결과 :(3, 6)\n"
          ],
          "name": "stdout"
        }
      ]
    },
    {
      "cell_type": "code",
      "metadata": {
        "id": "HyXanRS9xYnl",
        "colab_type": "code",
        "colab": {}
      },
      "source": [
        "pattern_string = '\\n'                   # 줄 넘김을 의미하는 패턴\n",
        "pattern = re.compile(pattern_string)\n",
        "news_data = re.sub(pattern, '', news_data)"
      ],
      "execution_count": 0,
      "outputs": []
    },
    {
      "cell_type": "code",
      "metadata": {
        "id": "-XnUZ-tszi-S",
        "colab_type": "code",
        "colab": {
          "base_uri": "https://localhost:8080/",
          "height": 34
        },
        "outputId": "767236f0-f938-4587-d636-b9c317bdb0e5"
      },
      "source": [
        "print(news_data)"
      ],
      "execution_count": 58,
      "outputs": [
        {
          "output_type": "stream",
          "text": [
            "abc가나다 English 가나다 English I don't know 힝힝\n"
          ],
          "name": "stdout"
        }
      ]
    },
    {
      "cell_type": "code",
      "metadata": {
        "id": "aJRmGgetzk6p",
        "colab_type": "code",
        "colab": {}
      },
      "source": [
        ""
      ],
      "execution_count": 0,
      "outputs": []
    }
  ]
}